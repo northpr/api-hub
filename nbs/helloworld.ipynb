{
 "cells": [
  {
   "cell_type": "code",
   "execution_count": null,
   "id": "073ec5f8",
   "metadata": {},
   "outputs": [],
   "source": [
    "#default_exp helloworld_example"
   ]
  },
  {
   "cell_type": "code",
   "execution_count": null,
   "id": "37fe5510-3561-42f1-81f7-10f39fcf4917",
   "metadata": {},
   "outputs": [
    {
     "name": "stdout",
     "output_type": "stream",
     "text": [
      "hello world\n"
     ]
    }
   ],
   "source": [
    "#export\n",
    "def hello_world():\n",
    "    print(\"Hello World!\")\n",
    "\n",
    "hello_world()"
   ]
  },
  {
   "cell_type": "code",
   "execution_count": 2,
   "id": "33047289-e7e2-4542-8eca-7b5fbae0f1c2",
   "metadata": {},
   "outputs": [
    {
     "data": {
      "text/plain": [
       "'สวสด'"
      ]
     },
     "execution_count": 2,
     "metadata": {},
     "output_type": "execute_result"
    }
   ],
   "source": [
    "import re\n",
    "\n",
    "def normalize_text(text):\n",
    "    text = text.lower()\n",
    "    text = re.sub(r'\\W+', '', text)\n",
    "    return text\n",
    "\n",
    "normalize_text(\"สวัสดี\")"
   ]
  },
  {
   "cell_type": "code",
   "execution_count": null,
   "id": "abe2d917",
   "metadata": {},
   "outputs": [],
   "source": []
  }
 ],
 "metadata": {
  "kernelspec": {
   "display_name": "Python 3 (ipykernel)",
   "language": "python",
   "name": "python3"
  },
  "language_info": {
   "codemirror_mode": {
    "name": "ipython",
    "version": 3
   },
   "file_extension": ".py",
   "mimetype": "text/x-python",
   "name": "python",
   "nbconvert_exporter": "python",
   "pygments_lexer": "ipython3",
   "version": "3.11.5"
  }
 },
 "nbformat": 4,
 "nbformat_minor": 5
}
