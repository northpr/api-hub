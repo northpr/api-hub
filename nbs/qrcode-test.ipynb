{
 "cells": [
  {
   "cell_type": "code",
   "execution_count": 1,
   "id": "181eb655-58d3-4a4c-b818-50789a0c962d",
   "metadata": {},
   "outputs": [],
   "source": [
    "import requests\n",
    "from fastapi import FastAPI, File, UploadFile\n",
    "import cv2\n",
    "import numpy as np"
   ]
  },
  {
   "cell_type": "code",
   "execution_count": 2,
   "id": "be803938-d933-4d75-9807-939c436e96e9",
   "metadata": {},
   "outputs": [],
   "source": [
    "def decode_qr_online(image_path):\n",
    "    with open(image_path, 'rb') as image_file:\n",
    "        print()\n",
    "        response = requests.post(\n",
    "            'https://api.qrserver.com/v1/read-qr-code/',\n",
    "            files={'file': image_file}\n",
    "        )\n",
    "    decoded_info = response.json()\n",
    "    if decoded_info:\n",
    "        print('Decoded value is:', decoded_info[0]['symbol'][0]['data'])\n",
    "    else:\n",
    "        print('No QR code found')"
   ]
  },
  {
   "cell_type": "code",
   "execution_count": 3,
   "id": "a7437c63-ae75-4ae3-8c37-6a5297d9d1d0",
   "metadata": {},
   "outputs": [
    {
     "name": "stdout",
     "output_type": "stream",
     "text": [
      "\n",
      "Decoded value is: 0041000600000101030040220013270134700BPM093485102TH9104F55C\n"
     ]
    }
   ],
   "source": [
    "decode_qr_online(\"../data/vpay_test/202309271344459586.jpg\")"
   ]
  },
  {
   "cell_type": "code",
   "execution_count": 4,
   "id": "588d6ef3-67f1-4cd5-850b-b2a43264fa18",
   "metadata": {},
   "outputs": [],
   "source": [
    "import cv2\n",
    "import numpy as np\n",
    "\n",
    "def decode_qr_with_opencv(image_path):\n",
    "    # 1. Load the image using OpenCV\n",
    "    image = cv2.imread(image_path)\n",
    "    \n",
    "    # Check if the image is loaded successfully\n",
    "    if image is None:\n",
    "        print(\"Error: Couldn't load the image.\")\n",
    "        return\n",
    "\n",
    "    # 2. Initialize the QRCodeDetector\n",
    "    qr_code_detector = cv2.QRCodeDetector()\n",
    "\n",
    "    # 3. Decode the QR code\n",
    "    retval, decoded_info, _ = qr_code_detector.detectAndDecode(image)\n",
    "\n",
    "    # 4. Check the decoded info and print the result\n",
    "    if retval:\n",
    "        print('Decoded value is:', retval)\n",
    "    else:\n",
    "        print('No QR code found')"
   ]
  },
  {
   "cell_type": "code",
   "execution_count": 5,
   "id": "5494ab5c-1cc7-473d-b329-83c8524712f3",
   "metadata": {},
   "outputs": [
    {
     "name": "stdout",
     "output_type": "stream",
     "text": [
      "Decoded value is: 0041000600000101030040220013270134700BPM093485102TH9104F55C\n"
     ]
    }
   ],
   "source": [
    "decode_qr_with_opencv('../data/vpay_test/202309271344459586.jpg')"
   ]
  },
  {
   "cell_type": "code",
   "execution_count": 6,
   "id": "17451851-7b26-4168-9663-61a9a17020eb",
   "metadata": {},
   "outputs": [],
   "source": [
    "import requests\n",
    "from PIL import Image\n",
    "\n",
    "MAX_RETRIES = 3\n",
    "\n",
    "def send_image_for_qr_decoding(image_path):\n",
    "    # File validation\n",
    "    try:\n",
    "        with Image.open(image_path) as img:\n",
    "            if img.format not in ['JPEG', 'PNG']:\n",
    "                print(\"Unsupported image format.\")\n",
    "                return\n",
    "    except Exception as e:\n",
    "        print(f\"Error in reading the image: {e}\")\n",
    "        return\n",
    "\n",
    "    retry_count = 0\n",
    "    while retry_count < MAX_RETRIES:\n",
    "        try:\n",
    "            with open(image_path, 'rb') as image_file:\n",
    "                response = requests.post(\n",
    "                    'http://127.0.0.1:8000/decode-qr/',\n",
    "                    files={'file': image_file}\n",
    "                )\n",
    "            \n",
    "            decoded_info = response.json()\n",
    "            if decoded_info and 'decoded_value' in decoded_info:\n",
    "                print('Decoded value is:', decoded_info['decoded_value'])\n",
    "                break\n",
    "            else:\n",
    "                print('No QR code found or error in decoding.')\n",
    "                break\n",
    "        except Exception as e:\n",
    "            print(f\"Error in request: {e}\")\n",
    "            retry_count += 1\n",
    "            if retry_count < MAX_RETRIES:\n",
    "                print(f\"Retrying... ({retry_count}/{MAX_RETRIES})\")\n",
    "            else:\n",
    "                print(\"Max retries reached.\")\n",
    "\n"
   ]
  },
  {
   "cell_type": "code",
   "execution_count": 7,
   "id": "545f86e3-c8e4-4de0-874d-c81b819afb9f",
   "metadata": {},
   "outputs": [
    {
     "name": "stdout",
     "output_type": "stream",
     "text": [
      "Error in reading the image: [Errno 2] No such file or directory: '../data/202309272014363302.jpg'\n"
     ]
    }
   ],
   "source": [
    "send_image_for_qr_decoding('../data/202309272014363302.jpg')"
   ]
  },
  {
   "cell_type": "code",
   "execution_count": 13,
   "id": "3c891267-85dd-4d38-ad13-f6bd8edb9eee",
   "metadata": {},
   "outputs": [],
   "source": [
    "def word_romanized_check(to_check_name, real_eng_name, server_url=\"http://127.0.0.1:8000\"):\n",
    "    url = f\"{server_url}/name-checker/\"\n",
    "\n",
    "    data = {\n",
    "        \"to_check_name\": to_check_name,\n",
    "        \"true_name\": real_eng_name\n",
    "    }\n",
    "\n",
    "    try:\n",
    "        response = requests.post(url, data=data)\n",
    "\n",
    "        if response.status_code == 200:\n",
    "            return response.json()\n",
    "        else:\n",
    "            print(f\"Error (response.status_code): {response.text}\")\n",
    "            return None\n",
    "        \n",
    "    except Exception as e:\n",
    "        print(f\"Error in sending quest: {e}\")\n",
    "        return None"
   ]
  },
  {
   "cell_type": "code",
   "execution_count": 14,
   "id": "de92d915",
   "metadata": {},
   "outputs": [
    {
     "data": {
      "text/plain": [
       "{'to_check_th_romanized': 'pathawi',\n",
       " 'is_match': True,\n",
       " 'match_score': 71.42857142857143}"
      ]
     },
     "execution_count": 14,
     "metadata": {},
     "output_type": "execute_result"
    }
   ],
   "source": [
    "word_romanized_check(\"ปฐวี\", \"patawee\")"
   ]
  },
  {
   "cell_type": "code",
   "execution_count": 16,
   "id": "a252f792",
   "metadata": {},
   "outputs": [
    {
     "name": "stdout",
     "output_type": "stream",
     "text": [
      "{'is_match': True, 'match_score': 100.0}\n",
      "{'to_check_th_romanized': 'wiphu', 'is_match': False, 'match_score': 40.0}\n",
      "{'is_match': True, 'match_score': 100.0}\n"
     ]
    }
   ],
   "source": [
    "# Example usage\n",
    "patawee_result = word_romanized_check(\"Panrawee\", \"Panrawee\")\n",
    "vipoo_result = word_romanized_check(\"วิภู\", \"Vipoo\")\n",
    "panrawee_result = word_romanized_check(\"Panrawee\", \"Panrawee\")\n",
    "print(patawee_result)\n",
    "print(vipoo_result)\n",
    "print(panrawee_result)"
   ]
  },
  {
   "cell_type": "code",
   "execution_count": 11,
   "id": "0d83b24a",
   "metadata": {},
   "outputs": [],
   "source": [
    "from lingua import Language, LanguageDetectorBuilder\n",
    "\n",
    "languages = [Language.ENGLISH, Language.THAI]\n",
    "detector = LanguageDetectorBuilder.from_languages(*languages)\\\n",
    ".with_minimum_relative_distance(0.9)\\\n",
    ".build()"
   ]
  },
  {
   "cell_type": "code",
   "execution_count": 12,
   "id": "277f2429",
   "metadata": {},
   "outputs": [
    {
     "name": "stdout",
     "output_type": "stream",
     "text": [
      "Language.THAI\n"
     ]
    }
   ],
   "source": [
    "print(detector.detect_language_of(\"lfdดีจ้าe is english\"))"
   ]
  },
  {
   "cell_type": "code",
   "execution_count": null,
   "id": "8c7bc7d1",
   "metadata": {},
   "outputs": [],
   "source": []
  }
 ],
 "metadata": {
  "kernelspec": {
   "display_name": "Python 3 (ipykernel)",
   "language": "python",
   "name": "python3"
  },
  "language_info": {
   "codemirror_mode": {
    "name": "ipython",
    "version": 3
   },
   "file_extension": ".py",
   "mimetype": "text/x-python",
   "name": "python",
   "nbconvert_exporter": "python",
   "pygments_lexer": "ipython3",
   "version": "3.11.5"
  }
 },
 "nbformat": 4,
 "nbformat_minor": 5
}
