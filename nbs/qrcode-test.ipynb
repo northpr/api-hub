{
 "cells": [
  {
   "cell_type": "code",
   "execution_count": 1,
   "id": "181eb655-58d3-4a4c-b818-50789a0c962d",
   "metadata": {},
   "outputs": [],
   "source": [
    "import requests\n",
    "from fastapi import FastAPI, File, UploadFile\n",
    "import cv2\n",
    "import numpy as np"
   ]
  },
  {
   "cell_type": "markdown",
   "id": "39a1bc23",
   "metadata": {},
   "source": []
  },
  {
   "cell_type": "code",
   "execution_count": 2,
   "id": "17451851-7b26-4168-9663-61a9a17020eb",
   "metadata": {},
   "outputs": [],
   "source": [
    "import requests\n",
    "from PIL import Image\n",
    "\n",
    "MAX_RETRIES = 3\n",
    "\n",
    "def send_image_for_qr_decoding(image_path):\n",
    "    # File validation\n",
    "    try:\n",
    "        with Image.open(image_path) as img:\n",
    "            if img.format not in ['JPEG', 'PNG']:\n",
    "                print(\"Unsupported image format.\")\n",
    "                return\n",
    "    except Exception as e:\n",
    "        print(f\"Error in reading the image: {e}\")\n",
    "        return\n",
    "\n",
    "    retry_count = 0\n",
    "    while retry_count < MAX_RETRIES:\n",
    "        try:\n",
    "            with open(image_path, 'rb') as image_file:\n",
    "                response = requests.post(\n",
    "                    'http://127.0.0.1:8000/decode-qr/',\n",
    "                    files={'file': image_file}\n",
    "                )\n",
    "            \n",
    "            decoded_info = response.json()\n",
    "            if decoded_info and 'decoded_value' in decoded_info:\n",
    "                print('Decoded value is:', decoded_info['decoded_value'])\n",
    "                break\n",
    "            else:\n",
    "                print('No QR code found or error in decoding.')\n",
    "                break\n",
    "        except Exception as e:\n",
    "            print(f\"Error in request: {e}\")\n",
    "            retry_count += 1\n",
    "            if retry_count < MAX_RETRIES:\n",
    "                print(f\"Retrying... ({retry_count}/{MAX_RETRIES})\")\n",
    "            else:\n",
    "                print(\"Max retries reached.\")\n",
    "\n"
   ]
  },
  {
   "cell_type": "code",
   "execution_count": 3,
   "id": "545f86e3-c8e4-4de0-874d-c81b819afb9f",
   "metadata": {},
   "outputs": [
    {
     "name": "stdout",
     "output_type": "stream",
     "text": [
      "Error in request: Expecting value: line 1 column 1 (char 0)\n",
      "Retrying... (1/3)\n",
      "Error in request: Expecting value: line 1 column 1 (char 0)\n",
      "Retrying... (2/3)\n",
      "Error in request: Expecting value: line 1 column 1 (char 0)\n",
      "Max retries reached.\n"
     ]
    }
   ],
   "source": [
    "send_image_for_qr_decoding('../data/vpay_test/202309281459387582.jpg')"
   ]
  },
  {
   "cell_type": "code",
   "execution_count": 10,
   "id": "3c891267-85dd-4d38-ad13-f6bd8edb9eee",
   "metadata": {},
   "outputs": [],
   "source": [
    "def word_romanized_check(to_check_name, real_eng_name, server_url=\"http://127.0.0.1:8000\"):\n",
    "    url = f\"{server_url}/name-checker/\"\n",
    "\n",
    "    data = {\n",
    "        \"name1\": to_check_name,\n",
    "        \"name2\": real_eng_name\n",
    "    }\n",
    "\n",
    "    try:\n",
    "        response = requests.post(url, data=data)\n",
    "\n",
    "        if response.status_code == 200:\n",
    "            return response.json()\n",
    "        else:\n",
    "            print(f\"Error (response.status_code): {response.text}\")\n",
    "            return None\n",
    "        \n",
    "    except Exception as e:\n",
    "        print(f\"Error in sending quest: {e}\")\n",
    "        return None"
   ]
  },
  {
   "cell_type": "code",
   "execution_count": 11,
   "id": "de92d915",
   "metadata": {},
   "outputs": [
    {
     "name": "stdout",
     "output_type": "stream",
     "text": [
      "Error (response.status_code): {\"detail\":[{\"type\":\"missing\",\"loc\":[\"body\",\"name1\"],\"msg\":\"Field required\",\"input\":null,\"url\":\"https://errors.pydantic.dev/2.4/v/missing\"},{\"type\":\"missing\",\"loc\":[\"body\",\"name2\"],\"msg\":\"Field required\",\"input\":null,\"url\":\"https://errors.pydantic.dev/2.4/v/missing\"}]}\n"
     ]
    }
   ],
   "source": [
    "word_romanized_check(\"ปฐวี\", \"patawee\")"
   ]
  },
  {
   "cell_type": "code",
   "execution_count": 6,
   "id": "0d83b24a",
   "metadata": {},
   "outputs": [],
   "source": [
    "from lingua import Language, LanguageDetectorBuilder\n",
    "\n",
    "languages = [Language.ENGLISH, Language.THAI]\n",
    "detector = LanguageDetectorBuilder.from_languages(*languages)\\\n",
    ".with_minimum_relative_distance(0.9)\\\n",
    ".build()"
   ]
  },
  {
   "cell_type": "code",
   "execution_count": 7,
   "id": "277f2429",
   "metadata": {},
   "outputs": [
    {
     "name": "stdout",
     "output_type": "stream",
     "text": [
      "Language.THAI\n"
     ]
    }
   ],
   "source": [
    "print(detector.detect_language_of(\"lfdดีจ้าe is english\"))"
   ]
  },
  {
   "cell_type": "code",
   "execution_count": null,
   "id": "8c7bc7d1",
   "metadata": {},
   "outputs": [],
   "source": []
  }
 ],
 "metadata": {
  "kernelspec": {
   "display_name": "Python 3 (ipykernel)",
   "language": "python",
   "name": "python3"
  },
  "language_info": {
   "codemirror_mode": {
    "name": "ipython",
    "version": 3
   },
   "file_extension": ".py",
   "mimetype": "text/x-python",
   "name": "python",
   "nbconvert_exporter": "python",
   "pygments_lexer": "ipython3",
   "version": "3.11.5"
  }
 },
 "nbformat": 4,
 "nbformat_minor": 5
}
